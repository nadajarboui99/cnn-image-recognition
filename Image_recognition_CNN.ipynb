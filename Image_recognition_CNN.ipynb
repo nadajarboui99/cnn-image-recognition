{
 "cells": [
  {
   "cell_type": "markdown",
   "metadata": {},
   "source": [
    "TP_3 Les Réseaux de Neurones Convolutifs"
   ]
  },
  {
   "cell_type": "markdown",
   "metadata": {},
   "source": [
    "Objectif:\n",
    "Dans ce TP, on va essayer de résoudre un probléme de reconnaissance d'images en utilisant les CNNS. On va utiliser 3 architectures differentes, les évaluer, et deduire la meilleure architecture."
   ]
  },
  {
   "cell_type": "code",
   "execution_count": 47,
   "metadata": {},
   "outputs": [],
   "source": [
    "import numpy as np\n",
    "from tensorflow.keras.datasets import mnist\n",
    "from tensorflow.keras.utils import to_categorical\n",
    "from tensorflow.keras.models import Sequential\n"
   ]
  },
  {
   "cell_type": "markdown",
   "metadata": {},
   "source": [
    "Load dataset\n",
    "On va charger les données, 60 000 images d'apprentissages  et 10 000 images de test en niveaux de gris.\n",
    "Les images sont des matrices carrées de taille 28x28 et sont que des chiffres uniques entre  et 9."
   ]
  },
  {
   "cell_type": "markdown",
   "metadata": {},
   "source": [
    "Reshape data\n",
    "Les images MNIST sont fournies en format (60000, 28, 28) pour les données d'entraînement, et (10000, 28, 28) pour celles de test.\n",
    "Il manque une dimension pour les \"canaux\" (channels), qui est indispensable pour les CNNs.\n",
    "Un CNN attend des entrées en format 4D :\n",
    "[nombre d'images, largeur, hauteur, nombre de canaux]"
   ]
  },
  {
   "cell_type": "markdown",
   "metadata": {},
   "source": [
    "One Hot encoding\n",
    "Un CNN ne peut pas prédire directement des entiers. Il prévoit un vecteur de probabilités pour chaque classe.\n",
    "On va utilisé le One-Hot Encoding pour convertir chaque chiffre (0 à 9) en un vecteur de taille 10 où un seul élément est 1, et le reste sont des 0.\n"
   ]
  },
  {
   "cell_type": "code",
   "execution_count": 48,
   "metadata": {},
   "outputs": [],
   "source": [
    "def get_data_mnist():\n",
    "    # Load dataset\n",
    "    (X_train, y_train), (X_test, y_test) = mnist.load_data()\n",
    "    \n",
    "    # Reshape to be [samples][width][height][pixels] = (batch, 28, 28, 1)\n",
    "    X_train = X_train.reshape(X_train.shape[0], 28, 28, 1).astype('float32')\n",
    "    X_test = X_test.reshape(X_test.shape[0], 28, 28, 1).astype('float32')\n",
    "\n",
    "    # One hot encode outputs\n",
    "    y_train = to_categorical(y_train)\n",
    "    y_test = to_categorical(y_test)\n",
    "    num_classes = y_test.shape[1]\n",
    "\n",
    "    return (X_train, y_train), (X_test, y_test), num_classes\n"
   ]
  },
  {
   "cell_type": "markdown",
   "metadata": {},
   "source": [
    "Small CNN \n",
    "Ce modèle CNN simple est composé de deux couches de convolution (3x3), suivies d’un flatten et d’une sortie softmax.\n",
    "Il sert de base pour observer le comportement d’un réseau de neurones convolutifs minimaliste sur MNIST.\n",
    "Il permet déjà d’obtenir de bons résultats pour des tâches simples de classification."
   ]
  },
  {
   "cell_type": "code",
   "execution_count": 49,
   "metadata": {},
   "outputs": [],
   "source": [
    "from tensorflow.keras.models import Sequential\n",
    "from tensorflow.keras.layers import Conv2D, Flatten, Dense\n",
    "def small_model(num_classes):\n",
    "    # create model\n",
    "    model = Sequential()  #Pour déclarer un nouveau modèle de deep learning\n",
    "    model.add(Conv2D(64, (3, 3), input_shape=(28, 28, 1), activation='relu'))  #convolution de 64 filtres en 3×3 suivie d’une couche d’activation ReLU\n",
    "    model.add(Conv2D(32, (3, 3), activation='relu'))  #convolution de 32 filtres en 3×3 suivie d’une couche d’activation ReLU\n",
    "    model.add(Flatten()) #création du vecteur final à envoyer au réseau de neurones artificiels\n",
    "    model.add(Dense(num_classes, activation='softmax'))\n",
    "\n",
    "    # Compiler le modèle\n",
    "    model.compile(loss='categorical_crossentropy', optimizer='adam', metrics=['accuracy'])\n",
    "\n",
    "    return model\n"
   ]
  },
  {
   "cell_type": "markdown",
   "metadata": {},
   "source": [
    "Entraînement du modèle"
   ]
  },
  {
   "cell_type": "code",
   "execution_count": 50,
   "metadata": {},
   "outputs": [
    {
     "name": "stdout",
     "output_type": "stream",
     "text": [
      "Epoch 1/10\n",
      "300/300 - 26s - 86ms/step - accuracy: 0.9246 - loss: 0.8608 - val_accuracy: 0.9731 - val_loss: 0.0874\n",
      "Epoch 2/10\n",
      "300/300 - 21s - 71ms/step - accuracy: 0.9808 - loss: 0.0642 - val_accuracy: 0.9764 - val_loss: 0.0793\n",
      "Epoch 3/10\n",
      "300/300 - 21s - 70ms/step - accuracy: 0.9860 - loss: 0.0436 - val_accuracy: 0.9788 - val_loss: 0.0782\n",
      "Epoch 4/10\n",
      "300/300 - 21s - 70ms/step - accuracy: 0.9905 - loss: 0.0290 - val_accuracy: 0.9795 - val_loss: 0.0814\n",
      "Epoch 5/10\n",
      "300/300 - 21s - 69ms/step - accuracy: 0.9925 - loss: 0.0229 - val_accuracy: 0.9769 - val_loss: 0.0954\n",
      "Epoch 6/10\n",
      "300/300 - 21s - 71ms/step - accuracy: 0.9929 - loss: 0.0224 - val_accuracy: 0.9756 - val_loss: 0.0989\n",
      "Epoch 7/10\n",
      "300/300 - 21s - 70ms/step - accuracy: 0.9944 - loss: 0.0167 - val_accuracy: 0.9779 - val_loss: 0.0974\n",
      "Epoch 8/10\n",
      "300/300 - 21s - 69ms/step - accuracy: 0.9955 - loss: 0.0132 - val_accuracy: 0.9775 - val_loss: 0.1215\n",
      "Epoch 9/10\n",
      "300/300 - 21s - 70ms/step - accuracy: 0.9952 - loss: 0.0145 - val_accuracy: 0.9772 - val_loss: 0.1054\n",
      "Epoch 10/10\n",
      "300/300 - 21s - 70ms/step - accuracy: 0.9953 - loss: 0.0142 - val_accuracy: 0.9769 - val_loss: 0.1441\n"
     ]
    },
    {
     "data": {
      "text/plain": [
       "<keras.src.callbacks.history.History at 0x2362b678140>"
      ]
     },
     "execution_count": 50,
     "metadata": {},
     "output_type": "execute_result"
    }
   ],
   "source": [
    "num_classes=10\n",
    "(X_train, y_train), (X_test, y_test), num_classes = get_data_mnist()\n",
    "model = small_model(num_classes)\n",
    "\n",
    "# Entraînement du modèle\n",
    "model.fit(X_train, y_train, validation_data=(X_test, y_test), epochs=10, batch_size=200, verbose=2)\n"
   ]
  },
  {
   "cell_type": "markdown",
   "metadata": {},
   "source": [
    "Le modèle atteint rapidement une bonne précision, avec 99,5 % sur les données d'entraînement à la 10ᵉ époque.\n",
    "\n",
    "Cependant, la perte de validation augmente après quelques époques, ce qui indique un début d'overfitting (le modèle mémorise au lieu de généraliser).\n",
    "\n",
    "Le val_loss monte jusqu’à 0.142, ce qui est relativement élevé comparé au début de l'entraînement."
   ]
  },
  {
   "cell_type": "code",
   "execution_count": 51,
   "metadata": {},
   "outputs": [
    {
     "name": "stdout",
     "output_type": "stream",
     "text": [
      "Model score : 97.69%\n",
      "Model error rate : 2.31%\n"
     ]
    }
   ],
   "source": [
    "def print_model_error_rate(model, X_test, y_test):\n",
    "    # Évaluation finale du modèle\n",
    "    scores = model.evaluate(X_test, y_test, verbose=0)\n",
    "    print(\"Model score : %.2f%%\" % (scores[1] * 100))\n",
    "    print(\"Model error rate : %.2f%%\" % (100 - scores[1] * 100))\n",
    "print_model_error_rate(model, X_test, y_test)    \n"
   ]
  },
  {
   "cell_type": "markdown",
   "metadata": {},
   "source": [
    "Le score final sur les données de test est 97,69 %, ce qui reste très bon.\n",
    "\n",
    "Le taux d’erreur est de 2,31 %, mais il aurait pu être meilleur."
   ]
  },
  {
   "cell_type": "markdown",
   "metadata": {},
   "source": [
    "Données Normalisées"
   ]
  },
  {
   "cell_type": "code",
   "execution_count": 52,
   "metadata": {},
   "outputs": [],
   "source": [
    "def get_data_mnist_normalized():\n",
    "    # Load dataset\n",
    "    (X_train, y_train), (X_test, y_test) = mnist.load_data()\n",
    "    \n",
    "    # Reshape to be [samples][width][height][pixels] = (batch, 28, 28, 1)\n",
    "    X_train = X_train.reshape(X_train.shape[0], 28, 28, 1).astype('float32')\n",
    "    X_test = X_test.reshape(X_test.shape[0], 28, 28, 1).astype('float32')\n",
    "\n",
    "    # Normalize pixel values to [0,1]\n",
    "    X_train /= 255.0\n",
    "    X_test /= 255.0\n",
    "\n",
    "    # One hot encode outputs\n",
    "    y_train = to_categorical(y_train)\n",
    "    y_test = to_categorical(y_test)\n",
    "    num_classes = y_test.shape[1]\n",
    "\n",
    "    return (X_train, y_train), (X_test, y_test), num_classes\n"
   ]
  },
  {
   "cell_type": "markdown",
   "metadata": {},
   "source": [
    "Entraînement du small CNN aprés normalisation des données"
   ]
  },
  {
   "cell_type": "code",
   "execution_count": 53,
   "metadata": {},
   "outputs": [
    {
     "name": "stdout",
     "output_type": "stream",
     "text": [
      "Epoch 1/10\n",
      "300/300 - 22s - 73ms/step - accuracy: 0.9391 - loss: 0.2255 - val_accuracy: 0.9771 - val_loss: 0.0715\n",
      "Epoch 2/10\n",
      "300/300 - 21s - 69ms/step - accuracy: 0.9819 - loss: 0.0625 - val_accuracy: 0.9835 - val_loss: 0.0530\n",
      "Epoch 3/10\n",
      "300/300 - 23s - 76ms/step - accuracy: 0.9866 - loss: 0.0438 - val_accuracy: 0.9840 - val_loss: 0.0478\n",
      "Epoch 4/10\n",
      "300/300 - 22s - 74ms/step - accuracy: 0.9893 - loss: 0.0346 - val_accuracy: 0.9856 - val_loss: 0.0488\n",
      "Epoch 5/10\n",
      "300/300 - 21s - 70ms/step - accuracy: 0.9918 - loss: 0.0261 - val_accuracy: 0.9853 - val_loss: 0.0476\n",
      "Epoch 6/10\n",
      "300/300 - 21s - 71ms/step - accuracy: 0.9937 - loss: 0.0196 - val_accuracy: 0.9867 - val_loss: 0.0468\n",
      "Epoch 7/10\n",
      "300/300 - 21s - 71ms/step - accuracy: 0.9953 - loss: 0.0160 - val_accuracy: 0.9863 - val_loss: 0.0489\n",
      "Epoch 8/10\n",
      "300/300 - 21s - 70ms/step - accuracy: 0.9962 - loss: 0.0124 - val_accuracy: 0.9856 - val_loss: 0.0509\n",
      "Epoch 9/10\n",
      "300/300 - 21s - 70ms/step - accuracy: 0.9973 - loss: 0.0098 - val_accuracy: 0.9854 - val_loss: 0.0553\n",
      "Epoch 10/10\n",
      "300/300 - 21s - 70ms/step - accuracy: 0.9979 - loss: 0.0072 - val_accuracy: 0.9869 - val_loss: 0.0570\n"
     ]
    },
    {
     "data": {
      "text/plain": [
       "<keras.src.callbacks.history.History at 0x23626e9a180>"
      ]
     },
     "execution_count": 53,
     "metadata": {},
     "output_type": "execute_result"
    }
   ],
   "source": [
    "(X_train_normalized, y_train_normalized), (X_test_normalized, y_test_normalized), num_classes = get_data_mnist_normalized()\n",
    "model_normalized = small_model(num_classes)\n",
    "\n",
    "# Entraînement du modèle\n",
    "model_normalized.fit(X_train_normalized, y_train_normalized, validation_data=(X_test_normalized, y_test_normalized), epochs=10, batch_size=200, verbose=2)\n"
   ]
  },
  {
   "cell_type": "markdown",
   "metadata": {},
   "source": [
    "Le modèle démarre avec une perte plus faible 0.2255 contre 0.8608 dès la première époque.\n",
    "\n",
    "La val_loss reste stable et basse tout au long de l'entraînement, preuve que le modèle généralise mieux.\n",
    "\n",
    "Pas de signe d’overfitting apparent après 10 époques.\n",
    "\n",
    "Le modèle apprend plus efficacement et converge plus vite."
   ]
  },
  {
   "cell_type": "code",
   "execution_count": 54,
   "metadata": {},
   "outputs": [
    {
     "name": "stdout",
     "output_type": "stream",
     "text": [
      "Model score : 98.69%\n",
      "Model error rate : 1.31%\n"
     ]
    }
   ],
   "source": [
    "print_model_error_rate(model_normalized, X_test_normalized, y_test_normalized)    "
   ]
  },
  {
   "cell_type": "markdown",
   "metadata": {},
   "source": [
    "Le score final atteint 98,69 %, soit 1,31 % de taux d’erreur, ce qui est nettement meilleur que sans normalisation.\n",
    "\n",
    "Cela confirme que la normalisation améliore la précision, la stabilité et la capacité du modèle à bien se comporter sur de nouvelles données."
   ]
  },
  {
   "cell_type": "markdown",
   "metadata": {},
   "source": [
    "Meduim CNN\n",
    "\n",
    "Ce modèle CNN de complexité moyenne comprend une couche de convolution 5x5 suivie d'un max-pooling, puis un dropout pour éviter l’overfitting. Il se termine par un dense à 128 neurones puis un softmax pour la classification.\n",
    "Il est plus puissant que le modèle Small CNN et constitue une bonne base pour des performances solides."
   ]
  },
  {
   "cell_type": "code",
   "execution_count": 55,
   "metadata": {},
   "outputs": [],
   "source": [
    "from keras.layers import MaxPooling2D, Dropout\n",
    "from tensorflow.keras.models import Sequential\n",
    "from tensorflow.keras.layers import Conv2D, Flatten, Dense\n",
    "\n",
    "def medium_model(input_shape=(28, 28, 1), num_classes=10):\n",
    "    model = Sequential()\n",
    "    model.add(Conv2D(32, (5, 5), activation='relu', input_shape=input_shape))\n",
    "    model.add(MaxPooling2D(pool_size=(2, 2)))\n",
    "    model.add(Dropout(0.2))\n",
    "    model.add(Flatten())\n",
    "    model.add(Dense(128, activation='relu'))\n",
    "    model.add(Dense(num_classes, activation='softmax'))\n",
    "    model.compile(loss='categorical_crossentropy', optimizer='adam', metrics=['accuracy'])\n",
    "    return model\n"
   ]
  },
  {
   "cell_type": "code",
   "execution_count": 56,
   "metadata": {},
   "outputs": [
    {
     "name": "stdout",
     "output_type": "stream",
     "text": [
      "Training Medium CNN model...\n",
      "Epoch 1/10\n",
      "270/270 - 6s - 22ms/step - accuracy: 0.9264 - loss: 0.2571 - val_accuracy: 0.9798 - val_loss: 0.0763\n",
      "Epoch 2/10\n",
      "270/270 - 5s - 19ms/step - accuracy: 0.9767 - loss: 0.0780 - val_accuracy: 0.9867 - val_loss: 0.0503\n",
      "Epoch 3/10\n",
      "270/270 - 5s - 18ms/step - accuracy: 0.9832 - loss: 0.0549 - val_accuracy: 0.9885 - val_loss: 0.0420\n",
      "Epoch 4/10\n",
      "270/270 - 5s - 18ms/step - accuracy: 0.9864 - loss: 0.0435 - val_accuracy: 0.9875 - val_loss: 0.0445\n",
      "Epoch 5/10\n",
      "270/270 - 5s - 19ms/step - accuracy: 0.9889 - loss: 0.0351 - val_accuracy: 0.9902 - val_loss: 0.0373\n",
      "Epoch 6/10\n",
      "270/270 - 5s - 19ms/step - accuracy: 0.9903 - loss: 0.0294 - val_accuracy: 0.9877 - val_loss: 0.0425\n",
      "Epoch 7/10\n",
      "270/270 - 5s - 18ms/step - accuracy: 0.9919 - loss: 0.0247 - val_accuracy: 0.9888 - val_loss: 0.0436\n",
      "Epoch 8/10\n",
      "270/270 - 5s - 19ms/step - accuracy: 0.9927 - loss: 0.0221 - val_accuracy: 0.9878 - val_loss: 0.0409\n",
      "Epoch 9/10\n",
      "270/270 - 5s - 20ms/step - accuracy: 0.9948 - loss: 0.0174 - val_accuracy: 0.9895 - val_loss: 0.0368\n",
      "Epoch 10/10\n",
      "270/270 - 5s - 19ms/step - accuracy: 0.9949 - loss: 0.0154 - val_accuracy: 0.9885 - val_loss: 0.0441\n",
      "\n",
      "Medium CNN - Model score : 98.95%\n",
      "Medium CNN - Model error rate : 1.05%\n"
     ]
    }
   ],
   "source": [
    "# Chargement des données normalisées\n",
    "(X_train, y_train), (X_test, y_test), num_classes = get_data_mnist_normalized()\n",
    "\n",
    "# Création du modèle Medium\n",
    "model_medium = medium_model(input_shape=(28, 28, 1), num_classes=num_classes)\n",
    "\n",
    "# Entraînement\n",
    "print(\"Training Medium CNN model...\")\n",
    "history_medium = model_medium.fit(X_train, y_train, validation_split=0.1, epochs=10, batch_size=200, verbose=2)\n",
    "\n",
    "# Évaluation\n",
    "score_medium = model_medium.evaluate(X_test, y_test, verbose=0)\n",
    "print(f\"\\nMedium CNN - Model score : {score_medium[1] * 100:.2f}%\")\n",
    "print(f\"Medium CNN - Model error rate : {(1 - score_medium[1]) * 100:.2f}%\")\n"
   ]
  },
  {
   "cell_type": "markdown",
   "metadata": {},
   "source": [
    "Le modèle Medium CNN a montré une très bonne performance avec une précision finale de 98.95 %. La courbe d'entraînement est stable et les pertes diminuent progressivement, indiquant une bonne convergence. Ce modèle reste simple mais efficace pour la classification MNIST."
   ]
  },
  {
   "cell_type": "markdown",
   "metadata": {},
   "source": [
    "Large CNN\n",
    "\n",
    "Ce modèle CNN plus complexe enchaîne deux convolutions (5x5 puis 3x3) avec max-pooling et dropout, puis passe par deux couches fully connected (128 et 50 neurones). \n",
    "Il est conçu pour extraire des motifs plus fins et mieux généraliser grâce à une architecture plus profonde. Il convient mieux aux environnements où l'on cherche une très haute précision."
   ]
  },
  {
   "cell_type": "code",
   "execution_count": 57,
   "metadata": {},
   "outputs": [],
   "source": [
    "def large_model(input_shape=(28, 28, 1), num_classes=10):\n",
    "    model = Sequential()\n",
    "    model.add(Conv2D(30, (5, 5), activation='relu', input_shape=input_shape))\n",
    "    model.add(MaxPooling2D(pool_size=(2, 2)))\n",
    "    model.add(Conv2D(15, (3, 3), activation='relu'))\n",
    "    model.add(Dropout(0.2))\n",
    "    model.add(Flatten())\n",
    "    model.add(Dense(128, activation='relu'))\n",
    "    model.add(Dense(50, activation='relu'))\n",
    "    model.add(Dense(num_classes, activation='softmax'))\n",
    "    model.compile(loss='categorical_crossentropy', optimizer='adam', metrics=['accuracy'])\n",
    "    return model\n"
   ]
  },
  {
   "cell_type": "code",
   "execution_count": 58,
   "metadata": {},
   "outputs": [
    {
     "name": "stdout",
     "output_type": "stream",
     "text": [
      "Training Large CNN model...\n",
      "Epoch 1/10\n",
      "270/270 - 6s - 21ms/step - accuracy: 0.9075 - loss: 0.3150 - val_accuracy: 0.9790 - val_loss: 0.0806\n",
      "Epoch 2/10\n",
      "270/270 - 4s - 16ms/step - accuracy: 0.9740 - loss: 0.0864 - val_accuracy: 0.9862 - val_loss: 0.0533\n",
      "Epoch 3/10\n",
      "270/270 - 4s - 16ms/step - accuracy: 0.9824 - loss: 0.0572 - val_accuracy: 0.9892 - val_loss: 0.0446\n",
      "Epoch 4/10\n",
      "270/270 - 4s - 15ms/step - accuracy: 0.9858 - loss: 0.0460 - val_accuracy: 0.9888 - val_loss: 0.0413\n",
      "Epoch 5/10\n",
      "270/270 - 5s - 18ms/step - accuracy: 0.9891 - loss: 0.0353 - val_accuracy: 0.9905 - val_loss: 0.0365\n",
      "Epoch 6/10\n",
      "270/270 - 5s - 18ms/step - accuracy: 0.9897 - loss: 0.0318 - val_accuracy: 0.9898 - val_loss: 0.0393\n",
      "Epoch 7/10\n",
      "270/270 - 4s - 16ms/step - accuracy: 0.9919 - loss: 0.0258 - val_accuracy: 0.9890 - val_loss: 0.0423\n",
      "Epoch 8/10\n",
      "270/270 - 4s - 16ms/step - accuracy: 0.9919 - loss: 0.0239 - val_accuracy: 0.9903 - val_loss: 0.0393\n",
      "Epoch 9/10\n",
      "270/270 - 5s - 18ms/step - accuracy: 0.9937 - loss: 0.0195 - val_accuracy: 0.9918 - val_loss: 0.0336\n",
      "Epoch 10/10\n",
      "270/270 - 4s - 16ms/step - accuracy: 0.9945 - loss: 0.0171 - val_accuracy: 0.9907 - val_loss: 0.0394\n",
      "\n",
      "Large CNN - Model score : 99.33%\n",
      "Large CNN - Model error rate : 0.67%\n"
     ]
    }
   ],
   "source": [
    "# Création du modèle Large\n",
    "model_large = large_model(input_shape=(28, 28, 1), num_classes=num_classes)\n",
    "\n",
    "# Entraînement\n",
    "print(\"Training Large CNN model...\")\n",
    "history_large = model_large.fit(X_train, y_train, validation_split=0.1, epochs=10, batch_size=200, verbose=2)\n",
    "\n",
    "# Évaluation\n",
    "score_large = model_large.evaluate(X_test, y_test, verbose=0)\n",
    "print(f\"\\nLarge CNN - Model score : {score_large[1] * 100:.2f}%\")\n",
    "print(f\"Large CNN - Model error rate : {(1 - score_large[1]) * 100:.2f}%\")\n"
   ]
  },
  {
   "cell_type": "markdown",
   "metadata": {},
   "source": [
    "Le modèle Large CNN a obtenu une précision encore plus élevée de 99.33% avec un taux d'erreur 0.67% plus faible, confirmant l’avantage d’une architecture plus profonde. Il montre une excellente capacité de généralisation avec une perte de validation qui reste faible et stable. Ce modèle est bien adapté aux tâches demandant une meilleure extraction de caractéristiques."
   ]
  },
  {
   "cell_type": "markdown",
   "metadata": {},
   "source": [
    "Sauvegarde d'un modèle"
   ]
  },
  {
   "cell_type": "code",
   "execution_count": 59,
   "metadata": {},
   "outputs": [],
   "source": [
    "def save_keras_model(model, filename):\n",
    "    model_json = model.to_json()\n",
    "    with open(filename + \".json\", \"w\") as json_file:\n",
    "        json_file.write(model_json)\n",
    "    model.save_weights(filename + \".weights.h5\")  # Nom corrigé\n"
   ]
  },
  {
   "cell_type": "markdown",
   "metadata": {},
   "source": [
    "Sauvegarde des 3 modéles"
   ]
  },
  {
   "cell_type": "code",
   "execution_count": 60,
   "metadata": {},
   "outputs": [],
   "source": [
    "# Sauvegarde des trois modèles entraînés\n",
    "save_keras_model(model_normalized, \"small_cnn_model\")\n",
    "save_keras_model(model_medium, \"medium_cnn_model\")\n",
    "save_keras_model(model_large, \"large_cnn_model\")"
   ]
  },
  {
   "cell_type": "markdown",
   "metadata": {},
   "source": [
    "Chargement d'un modèle"
   ]
  },
  {
   "cell_type": "code",
   "execution_count": 61,
   "metadata": {},
   "outputs": [],
   "source": [
    "def load_keras_model(filename):\n",
    "    with open(filename + \".json\", \"r\") as json_file:\n",
    "        loaded_model_json = json_file.read()\n",
    "    loaded_model = model_from_json(loaded_model_json)\n",
    "    loaded_model.load_weights(filename + \".weights.h5\")  # CORRECTION ICI\n",
    "    return loaded_model\n"
   ]
  },
  {
   "cell_type": "markdown",
   "metadata": {},
   "source": [
    "Chargement des 3 modèles"
   ]
  },
  {
   "cell_type": "code",
   "execution_count": 62,
   "metadata": {},
   "outputs": [],
   "source": [
    "# Chargement des trois modèles\n",
    "model_small_loaded = load_keras_model(\"small_cnn_model\")\n",
    "model_medium_loaded = load_keras_model(\"medium_cnn_model\")\n",
    "model_large_loaded = load_keras_model(\"large_cnn_model\")\n",
    "\n",
    "# on doit compiler les modèles avant de les utiliser\n",
    "for model in [model_small_loaded, model_medium_loaded, model_large_loaded]:\n",
    "    model.compile(loss='categorical_crossentropy', optimizer='adam', metrics=['accuracy'])"
   ]
  },
  {
   "cell_type": "markdown",
   "metadata": {},
   "source": [
    "On va évaluer les 3 modèles aprés le chargement"
   ]
  },
  {
   "cell_type": "code",
   "execution_count": 63,
   "metadata": {},
   "outputs": [
    {
     "name": "stdout",
     "output_type": "stream",
     "text": [
      "Small CNN (chargé) - Précision : 98.69% | Erreur : 1.31%\n",
      "Medium CNN (chargé) - Précision : 98.95% | Erreur : 1.05%\n",
      "Large CNN (chargé) - Précision : 99.33% | Erreur : 0.67%\n"
     ]
    }
   ],
   "source": [
    "# Charger les données\n",
    "(_, _), (X_test, y_test), _ = get_data_mnist_normalized()\n",
    "\n",
    "# Évaluation du modèle small\n",
    "score_small = model_small_loaded.evaluate(X_test, y_test, verbose=0)\n",
    "print(f\"Small CNN (chargé) - Précision : {score_small[1]*100:.2f}% | Erreur : {(1 - score_small[1])*100:.2f}%\")\n",
    "\n",
    "# Évaluation du modèle medium\n",
    "score_medium = model_medium_loaded.evaluate(X_test, y_test, verbose=0)\n",
    "print(f\"Medium CNN (chargé) - Précision : {score_medium[1]*100:.2f}% | Erreur : {(1 - score_medium[1])*100:.2f}%\")\n",
    "\n",
    "# Évaluation du modèle large\n",
    "score_large = model_large_loaded.evaluate(X_test, y_test, verbose=0)\n",
    "print(f\"Large CNN (chargé) - Précision : {score_large[1]*100:.2f}% | Erreur : {(1 - score_large[1])*100:.2f}%\")\n"
   ]
  },
  {
   "cell_type": "markdown",
   "metadata": {},
   "source": [
    "On va tester les 3 modèles sur un exemple concret pour vérifier que la sauvegarde et le chargement fonctionnent correctement et que nos modèles sont prêtes à être utilisées."
   ]
  },
  {
   "cell_type": "code",
   "execution_count": 64,
   "metadata": {},
   "outputs": [
    {
     "data": {
      "image/png": "[encoded data removed]",
      "text/plain": [
       "<Figure size 1200x400 with 3 Axes>"
      ]
     },
     "metadata": {},
     "output_type": "display_data"
    }
   ],
   "source": [
    "import numpy as np\n",
    "import matplotlib.pyplot as plt\n",
    "\n",
    "# Choisir une image de test aléatoire\n",
    "index = np.random.randint(0, X_test.shape[0])\n",
    "image = X_test[index]\n",
    "true_label = np.argmax(y_test[index])\n",
    "\n",
    "# Fonction pour prédire avec un modèle donné\n",
    "def get_prediction_info(model, image):\n",
    "    prediction = model.predict(image.reshape(1, 28, 28, 1), verbose=0)\n",
    "    predicted_label = np.argmax(prediction)\n",
    "    confidence = np.max(prediction) * 100\n",
    "    return predicted_label, confidence\n",
    "\n",
    "# Obtenir les prédictions\n",
    "pred_small, conf_small = get_prediction_info(model_small_loaded, image)\n",
    "pred_medium, conf_medium = get_prediction_info(model_medium_loaded, image)\n",
    "pred_large, conf_large = get_prediction_info(model_large_loaded, image)\n",
    "\n",
    "# Affichage côte à côte\n",
    "fig, axs = plt.subplots(1, 3, figsize=(12, 4))\n",
    "models = [\"Small CNN\", \"Medium CNN\", \"Large CNN\"]\n",
    "preds = [pred_small, pred_medium, pred_large]\n",
    "confs = [conf_small, conf_medium, conf_large]\n",
    "axs_titles = []\n",
    "\n",
    "for i, ax in enumerate(axs):\n",
    "    ax.imshow(image.reshape(28, 28), cmap='gray')\n",
    "    ax.axis('off')\n",
    "    ax.set_title(f\"{models[i]}\\nPrédit : {preds[i]} | Vrai : {true_label}\\nConfiance : {confs[i]:.2f}%\")\n",
    "\n",
    "plt.tight_layout()\n",
    "plt.show()\n"
   ]
  }
 ],
 "metadata": {
  "kernelspec": {
   "display_name": "Python 3",
   "language": "python",
   "name": "python3"
  },
  "language_info": {
   "codemirror_mode": {
    "name": "ipython",
    "version": 3
   },
   "file_extension": ".py",
   "mimetype": "text/x-python",
   "name": "python",
   "nbconvert_exporter": "python",
   "pygments_lexer": "ipython3",
   "version": "3.12.0"
  }
 },
 "nbformat": 4,
 "nbformat_minor": 2
}
